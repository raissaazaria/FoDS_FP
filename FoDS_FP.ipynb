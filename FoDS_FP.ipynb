{
  "nbformat": 4,
  "nbformat_minor": 0,
  "metadata": {
    "colab": {
      "provenance": [],
      "include_colab_link": true
    },
    "kernelspec": {
      "name": "python3",
      "display_name": "Python 3"
    },
    "language_info": {
      "name": "python"
    }
  },
  "cells": [
    {
      "cell_type": "markdown",
      "metadata": {
        "id": "view-in-github",
        "colab_type": "text"
      },
      "source": [
        "<a href=\"https://colab.research.google.com/github/raissaazaria/FoDS_FP/blob/main/FoDS_FP.ipynb\" target=\"_parent\"><img src=\"https://colab.research.google.com/assets/colab-badge.svg\" alt=\"Open In Colab\"/></a>"
      ]
    },
    {
      "cell_type": "markdown",
      "source": [
        "# FoDS Final Project\n",
        "Chellshe Love Simrochelle - 2502043040\n",
        "\n",
        "Raissa Azaria 2502005805\n",
        "\n",
        "Dataset derived from: https://www.kaggle.com/datasets/farazrahman/earthquake"
      ],
      "metadata": {
        "id": "7gLUM0Ybk03F"
      }
    },
    {
      "cell_type": "code",
      "source": [
        "!pip install basemap"
      ],
      "metadata": {
        "id": "3X4b0rVGfp0-"
      },
      "execution_count": null,
      "outputs": []
    },
    {
      "cell_type": "code",
      "execution_count": null,
      "metadata": {
        "id": "3vTtwEu4s1SG"
      },
      "outputs": [],
      "source": [
        "#import libraries\n",
        "import pandas as pd\n",
        "import numpy as np\n",
        "import random as rd\n",
        "import matplotlib.pyplot as plt\n",
        "import seaborn as sns\n",
        "from sklearn.preprocessing import MinMaxScaler\n",
        "from sklearn.metrics import silhouette_score\n",
        "from mpl_toolkits.basemap import Basemap\n",
        "import re\n",
        "import missingno as msno\n",
        "import warnings\n",
        "from sklearn.cluster import KMeans\n",
        "from sklearn.datasets import make_blobs\n",
        "from google.colab import files"
      ]
    },
    {
      "cell_type": "code",
      "execution_count": null,
      "metadata": {
        "id": "FQDLeKsjyB5Q"
      },
      "outputs": [],
      "source": [
        "#reading dataset\n",
        "!gdown --id 1rjTf2IPpX4S8uYpyQJvhSStIM_RT4WRB\n"
      ]
    },
    {
      "cell_type": "code",
      "source": [
        "df = pd.read_csv(\"all_month.csv\")\n",
        "\n",
        "warnings.filterwarnings(\"ignore\")\n",
        "\n",
        "x = df.iloc[:, [0, 1, 2, 3]].values"
      ],
      "metadata": {
        "id": "N1XVPwEBxnjJ"
      },
      "execution_count": null,
      "outputs": []
    },
    {
      "cell_type": "code",
      "source": [
        "df.head()"
      ],
      "metadata": {
        "id": "JtQwmGdxLAmI"
      },
      "execution_count": null,
      "outputs": []
    },
    {
      "cell_type": "code",
      "source": [
        "df.tail()"
      ],
      "metadata": {
        "id": "DyAaxjI6Pz3x"
      },
      "execution_count": null,
      "outputs": []
    },
    {
      "cell_type": "code",
      "source": [
        "#show all column in dataset\n",
        "df.columns"
      ],
      "metadata": {
        "id": "rA2_UCdjz5Mj"
      },
      "execution_count": null,
      "outputs": []
    },
    {
      "cell_type": "code",
      "source": [
        "# prints information about dataset\n",
        "df.info()\n",
        "df[0:10]"
      ],
      "metadata": {
        "id": "38kRRZbjz7mf"
      },
      "execution_count": null,
      "outputs": []
    },
    {
      "cell_type": "code",
      "source": [
        "#returns a DataFrame object where all the values are replaced with a Boolean value True for NULL values, and otherwise False.\n",
        "df.isnull()"
      ],
      "metadata": {
        "id": "7Bx-82sTP5RF"
      },
      "execution_count": null,
      "outputs": []
    },
    {
      "cell_type": "code",
      "source": [
        "#showing missing value in each \n",
        "msno.matrix(df, color=\"0.1\")\n",
        "plt.show()"
      ],
      "metadata": {
        "id": "MQH8Vwt45XN7"
      },
      "execution_count": null,
      "outputs": []
    },
    {
      "cell_type": "code",
      "source": [
        "#returns the number of missing values in the dataset.\n",
        "df.isnull().sum()"
      ],
      "metadata": {
        "id": "adugqNpOP1Tu"
      },
      "execution_count": null,
      "outputs": []
    },
    {
      "cell_type": "code",
      "source": [
        "#removes the rows that contains NULL values.\n",
        "df.dropna()"
      ],
      "metadata": {
        "id": "Ej-wd066P9x4"
      },
      "execution_count": null,
      "outputs": []
    },
    {
      "cell_type": "code",
      "source": [
        "df.fillna(0,inplace=True)"
      ],
      "metadata": {
        "id": "0PvowHyPZWqp"
      },
      "execution_count": null,
      "outputs": []
    },
    {
      "cell_type": "code",
      "source": [
        "print(df.duplicated())"
      ],
      "metadata": {
        "id": "8nOb54YA9uaV"
      },
      "execution_count": null,
      "outputs": []
    },
    {
      "cell_type": "code",
      "source": [
        "df.drop_duplicates(inplace = True)"
      ],
      "metadata": {
        "id": "yivRuUfY-BVf"
      },
      "execution_count": null,
      "outputs": []
    },
    {
      "cell_type": "code",
      "source": [
        "df.describe()"
      ],
      "metadata": {
        "id": "j_wOqJ0tz91s"
      },
      "execution_count": null,
      "outputs": []
    },
    {
      "cell_type": "code",
      "source": [
        "corr = df.corr()\n",
        "sns.heatmap(corr)"
      ],
      "metadata": {
        "id": "sUKsF55GQMew"
      },
      "execution_count": null,
      "outputs": []
    },
    {
      "cell_type": "code",
      "source": [
        "df_outcome = pd.crosstab(index=df[\"mag\"],  \n",
        "                              columns=\"count\")      \n",
        "\n",
        "df_outcome"
      ],
      "metadata": {
        "id": "NDIo522a0CES"
      },
      "execution_count": null,
      "outputs": []
    },
    {
      "cell_type": "code",
      "source": [
        "df_outcome = pd.crosstab(index=df[\"depth\"], \n",
        "                              columns=\"count\")\n",
        "\n",
        "df_outcome"
      ],
      "metadata": {
        "id": "cMZQMM_eJpnc"
      },
      "execution_count": null,
      "outputs": []
    },
    {
      "cell_type": "code",
      "source": [
        "tempDf = df[['depth','mag']].copy()\n",
        "ms = MinMaxScaler()\n",
        "tempDf = ms.fit_transform(tempDf)\n",
        "tempDf = pd.DataFrame(tempDf, columns=['depth','mag'])\n",
        "tempDf.head()"
      ],
      "metadata": {
        "id": "s8dCtSqcU3Ca"
      },
      "execution_count": null,
      "outputs": []
    },
    {
      "cell_type": "code",
      "source": [
        "inertia = []\n",
        "for i in range(1,11):\n",
        "    kMeans = KMeans(n_clusters = i)\n",
        "    kMeans.fit(tempDf[['depth','mag']])  \n",
        "    inertia.append(kMeans.inertia_)  \n",
        "plt.plot(range(1,11), inertia, 'o-')\n",
        "plt.xlabel('Number of clusters')\n",
        "plt.ylabel('Inertia')\n",
        "plt.grid(alpha = 0.3) \n",
        "plt.show()"
      ],
      "metadata": {
        "id": "EeYJt-yjZup4"
      },
      "execution_count": null,
      "outputs": []
    },
    {
      "cell_type": "code",
      "source": [
        "ss = []\n",
        "for i in range(2,11):\n",
        "    kmeans = KMeans(n_clusters=i)\n",
        "    kmeans.fit(tempDf[['depth','mag']])\n",
        "    cluster_labels = kmeans.labels_\n",
        "    ss.append(silhouette_score(tempDf[['depth','mag']], cluster_labels)) \n",
        "plt.plot(range(2,11), ss, 'o-')\n",
        "plt.xlabel('Number of clusters')\n",
        "plt.ylabel('silhouette score')\n",
        "plt.grid(alpha = 0.3)\n",
        "plt.show()"
      ],
      "metadata": {
        "id": "C4Yey0MaZx1Y"
      },
      "execution_count": null,
      "outputs": []
    },
    {
      "cell_type": "code",
      "source": [
        "fig = plt.figure(figsize=(9,4), tight_layout=True)\n",
        "\n",
        "for i, data in enumerate([df['depth'], df['mag']]):\n",
        "    bins = 9 if i == 2 else 30\n",
        "    ax = plt.subplot(1,2, i + 1)\n",
        "    sns.histplot(data, bins=bins, kde=True)"
      ],
      "metadata": {
        "id": "CVauaZ38e0PZ"
      },
      "execution_count": null,
      "outputs": []
    },
    {
      "cell_type": "code",
      "source": [
        "sns.boxplot(data=df['depth'])\n",
        "plt.title('depth distribution')\n",
        "plt.show()"
      ],
      "metadata": {
        "id": "1rD4egCLfIdT"
      },
      "execution_count": null,
      "outputs": []
    },
    {
      "cell_type": "code",
      "source": [
        "sns.boxplot(data=df['mag'])\n",
        "plt.title('magnitude distribution')\n",
        "plt.show()"
      ],
      "metadata": {
        "id": "Np7FmiAefJpQ"
      },
      "execution_count": null,
      "outputs": []
    },
    {
      "cell_type": "code",
      "source": [
        "kMeans = KMeans(n_clusters=3)\n",
        "kMeans.fit(tempDf[['depth','mag']]) \n",
        "df['cluster2_3'] = kMeans.labels_\n",
        "df.head()"
      ],
      "metadata": {
        "id": "1bODLd78Y8ok"
      },
      "execution_count": null,
      "outputs": []
    },
    {
      "cell_type": "code",
      "source": [
        "plt.figure(figsize = (8,6))\n",
        "sns.scatterplot(data = df, y = 'depth', x = 'mag', hue = 'cluster2_3', alpha = 0.3, palette = 'magma')\n",
        "plt.show()"
      ],
      "metadata": {
        "id": "Q9TgfRUUZ1tb"
      },
      "execution_count": null,
      "outputs": []
    },
    {
      "cell_type": "code",
      "source": [
        "tempList1 = ['depth','mag']\n",
        "tempList2 = ['earthquakeType','dataAmount','percentage'] + tempList1\n",
        "eT = 1\n",
        "tempList3 = []\n",
        "dflen = len(df)\n",
        "for i in df['cluster2_3'].unique().tolist():\n",
        "    tempList4 = []\n",
        "    tempList4.append(i)\n",
        "    typelen = len(df.loc[df['cluster2_3']==i])\n",
        "    tempList4.append(typelen)\n",
        "    typepercent = round((typelen/dflen)*100,2)\n",
        "    tempList4.append(typepercent)\n",
        "    for j in tempList1:\n",
        "        q25 = str(round(df[j].loc[df['cluster2_3']==i].min(),2))\n",
        "        q75 = str(round(df[j].loc[df['cluster2_3']==i].max(),2))\n",
        "        if (q25==q75):\n",
        "            tempList4.append(q25)\n",
        "        else:\n",
        "            tempList4.append(\"(\"+q25+\") - (\"+q75+\")\")\n",
        "    tempList3.append(tempList4)\n",
        "tempdf = pd.DataFrame(tempList3,columns = tempList2)\n",
        "tempdf"
      ],
      "metadata": {
        "id": "cmhrURFUaEyg"
      },
      "execution_count": null,
      "outputs": []
    },
    {
      "cell_type": "code",
      "source": [
        "tempdf.sort_values(by='percentage',ascending = False)"
      ],
      "metadata": {
        "id": "8NtLQLYyaK8A"
      },
      "execution_count": null,
      "outputs": []
    },
    {
      "cell_type": "code",
      "source": [
        "sns.countplot(data = df , x = 'cluster2_3', palette = 'magma')\n",
        "plt.show()"
      ],
      "metadata": {
        "id": "CQGWpjJlaN3G"
      },
      "execution_count": null,
      "outputs": []
    },
    {
      "cell_type": "code",
      "source": [
        "def background_map():\n",
        "    plt.figure(figsize=(15,9))\n",
        "    m = Basemap(projection='geos', resolution=None,width=6E6, height=4E6, lat_0=0, lon_0=70)\n",
        "    m.shadedrelief(scale=0.7)\n",
        "    return m"
      ],
      "metadata": {
        "id": "hC8dJS5ifWth"
      },
      "execution_count": null,
      "outputs": []
    },
    {
      "cell_type": "code",
      "source": [
        "m = background_map()"
      ],
      "metadata": {
        "id": "IUOyU6ttflOi"
      },
      "execution_count": null,
      "outputs": []
    },
    {
      "cell_type": "code",
      "source": [
        "m = background_map()\n",
        "m.scatter(df['longitude'], df['latitude'], s=0.5 , c=df['mag'], cmap='Reds', latlon=True, alpha=0.1)\n",
        "plt.colorbar(label='Magnitude')\n",
        "plt.title('Earthquake')"
      ],
      "metadata": {
        "id": "KqjnDZgRf52D"
      },
      "execution_count": null,
      "outputs": []
    },
    {
      "cell_type": "code",
      "source": [
        "high_earthquake = df.loc[df['mag'] > 5.5]"
      ],
      "metadata": {
        "id": "8OiCqnrpp2Gt"
      },
      "execution_count": null,
      "outputs": []
    },
    {
      "cell_type": "code",
      "source": [
        "mms = MinMaxScaler()"
      ],
      "metadata": {
        "id": "Q8e8GoYPp43o"
      },
      "execution_count": null,
      "outputs": []
    },
    {
      "cell_type": "code",
      "source": [
        "scaled_depth = mms.fit_transform(high_earthquake['depth'].values.reshape(-1,1)).ravel() * 500"
      ],
      "metadata": {
        "id": "HmXgryr2p8nW"
      },
      "execution_count": null,
      "outputs": []
    },
    {
      "cell_type": "code",
      "source": [
        "m = background_map()\n",
        "m.scatter(high_earthquake['longitude'], high_earthquake['latitude'], s=scaled_depth, c=high_earthquake['mag'], cmap='Reds', latlon=True, alpha=0.3)\n",
        "plt.colorbar(label='Magnitude')\n",
        "plt.title('Earthquake')\n",
        "plt.show()"
      ],
      "metadata": {
        "id": "ZpCScVY3p_Zd"
      },
      "execution_count": null,
      "outputs": []
    }
  ]
}